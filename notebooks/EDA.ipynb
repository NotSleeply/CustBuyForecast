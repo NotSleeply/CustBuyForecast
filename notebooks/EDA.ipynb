{
 "cells": [
  {
   "cell_type": "markdown",
   "metadata": {},
   "source": [
    "# EDA探索性数据分析"
   ]
  },
  {
   "cell_type": "code",
   "execution_count": 79,
   "metadata": {},
   "outputs": [
    {
     "data": {
      "text/plain": [
       "<Figure size 1200x400 with 0 Axes>"
      ]
     },
     "metadata": {},
     "output_type": "display_data"
    }
   ],
   "source": [
    "import pandas as pd\n",
    "import numpy as np\n",
    "import matplotlib as mpl\n",
    "import matplotlib.pyplot as plt\n",
    "import seaborn as sns\n",
    "\n",
    "mpl.rcParams['axes.unicode_minus'] = False\n",
    "mpl.rcParams['font.family'] = ['SimHei']\n",
    "plt.figure(figsize=(12, 4))\n",
    "\n",
    "pd.set_option('display.max_columns', None)\n",
    "pd.set_option('display.max_rows', None)\n",
    "pd.set_option('display.width', 1500)\n",
    "pd.options.display.float_format = '{:.2f}'.format\n",
    "\n",
    "df_attr = pd.read_csv('../data/Antai_hackathon_attr.csv')\n",
    "df_train = pd.read_csv('../data/Antai_hackathon_train.csv')\n",
    "df_test = pd.read_csv('../data/dianshang_test.csv')\n",
    "\n",
    "\n",
    "buy_counts = df_train.groupby(\n",
    "    'buyer_admin_id').size().rename('buy_count').reset_index()\n",
    "item_buy_counts = df_train.groupby(\n",
    "    'item_id').size().rename('item_buy_count').reset_index()\n",
    "df_train['create_order_time'] = pd.to_datetime(df_train['create_order_time'])"
   ]
  },
  {
   "cell_type": "markdown",
   "metadata": {},
   "source": [
    "### 数据检查 -- 能用吗？"
   ]
  },
  {
   "cell_type": "markdown",
   "metadata": {},
   "source": [
    "##### 检查缺失值           -- 三组数据无缺失值。"
   ]
  },
  {
   "cell_type": "markdown",
   "metadata": {},
   "source": [
    "- 商品数据"
   ]
  },
  {
   "cell_type": "code",
   "execution_count": 80,
   "metadata": {},
   "outputs": [
    {
     "data": {
      "text/plain": [
       "item_id       0\n",
       "cate_id       0\n",
       "store_id      0\n",
       "item_price    0\n",
       "dtype: int64"
      ]
     },
     "execution_count": 80,
     "metadata": {},
     "output_type": "execute_result"
    }
   ],
   "source": [
    "df_attr.isnull().sum()"
   ]
  },
  {
   "cell_type": "markdown",
   "metadata": {},
   "source": [
    "- 训练数据"
   ]
  },
  {
   "cell_type": "code",
   "execution_count": 81,
   "metadata": {},
   "outputs": [
    {
     "data": {
      "text/plain": [
       "buyer_country_id     0\n",
       "buyer_admin_id       0\n",
       "item_id              0\n",
       "create_order_time    0\n",
       "irank                0\n",
       "dtype: int64"
      ]
     },
     "execution_count": 81,
     "metadata": {},
     "output_type": "execute_result"
    }
   ],
   "source": [
    "df_train.isnull().sum()"
   ]
  },
  {
   "cell_type": "markdown",
   "metadata": {},
   "source": [
    "- 测试数据"
   ]
  },
  {
   "cell_type": "code",
   "execution_count": 82,
   "metadata": {},
   "outputs": [
    {
     "data": {
      "text/plain": [
       "buyer_country_id     0\n",
       "buyer_admin_id       0\n",
       "item_id              0\n",
       "create_order_time    0\n",
       "irank                0\n",
       "dtype: int64"
      ]
     },
     "execution_count": 82,
     "metadata": {},
     "output_type": "execute_result"
    }
   ],
   "source": [
    "df_test.isnull().sum()"
   ]
  },
  {
   "cell_type": "markdown",
   "metadata": {},
   "source": [
    "##### 检查重复值  -- 无重复"
   ]
  },
  {
   "cell_type": "markdown",
   "metadata": {},
   "source": [
    "- 商品数据"
   ]
  },
  {
   "cell_type": "code",
   "execution_count": 83,
   "metadata": {},
   "outputs": [
    {
     "data": {
      "text/plain": [
       "np.int64(0)"
      ]
     },
     "execution_count": 83,
     "metadata": {},
     "output_type": "execute_result"
    }
   ],
   "source": [
    "df_attr.duplicated().sum()"
   ]
  },
  {
   "cell_type": "markdown",
   "metadata": {},
   "source": [
    "- 训练数据"
   ]
  },
  {
   "cell_type": "code",
   "execution_count": 84,
   "metadata": {},
   "outputs": [
    {
     "data": {
      "text/plain": [
       "np.int64(0)"
      ]
     },
     "execution_count": 84,
     "metadata": {},
     "output_type": "execute_result"
    }
   ],
   "source": [
    "df_train.duplicated().sum()"
   ]
  },
  {
   "cell_type": "markdown",
   "metadata": {},
   "source": [
    "- 测试数据"
   ]
  },
  {
   "cell_type": "code",
   "execution_count": 85,
   "metadata": {},
   "outputs": [
    {
     "data": {
      "text/plain": [
       "np.int64(0)"
      ]
     },
     "execution_count": 85,
     "metadata": {},
     "output_type": "execute_result"
    }
   ],
   "source": [
    "df_test.duplicated().sum()"
   ]
  },
  {
   "cell_type": "markdown",
   "metadata": {},
   "source": [
    "##### 检查异常值 数据量 记录数  -- 无异常"
   ]
  },
  {
   "cell_type": "markdown",
   "metadata": {},
   "source": [
    "- 商品数据 记录数1924269条"
   ]
  },
  {
   "cell_type": "code",
   "execution_count": 86,
   "metadata": {},
   "outputs": [
    {
     "data": {
      "text/html": [
       "<div>\n",
       "<style scoped>\n",
       "    .dataframe tbody tr th:only-of-type {\n",
       "        vertical-align: middle;\n",
       "    }\n",
       "\n",
       "    .dataframe tbody tr th {\n",
       "        vertical-align: top;\n",
       "    }\n",
       "\n",
       "    .dataframe thead th {\n",
       "        text-align: right;\n",
       "    }\n",
       "</style>\n",
       "<table border=\"1\" class=\"dataframe\">\n",
       "  <thead>\n",
       "    <tr style=\"text-align: right;\">\n",
       "      <th></th>\n",
       "      <th>item_id</th>\n",
       "      <th>cate_id</th>\n",
       "      <th>store_id</th>\n",
       "      <th>item_price</th>\n",
       "    </tr>\n",
       "  </thead>\n",
       "  <tbody>\n",
       "    <tr>\n",
       "      <th>count</th>\n",
       "      <td>1924269.00</td>\n",
       "      <td>1924269.00</td>\n",
       "      <td>1924269.00</td>\n",
       "      <td>1924269.00</td>\n",
       "    </tr>\n",
       "    <tr>\n",
       "      <th>mean</th>\n",
       "      <td>3882977.25</td>\n",
       "      <td>1380.07</td>\n",
       "      <td>33681.03</td>\n",
       "      <td>1038.87</td>\n",
       "    </tr>\n",
       "    <tr>\n",
       "      <th>std</th>\n",
       "      <td>2184652.60</td>\n",
       "      <td>862.32</td>\n",
       "      <td>19856.49</td>\n",
       "      <td>1773.79</td>\n",
       "    </tr>\n",
       "    <tr>\n",
       "      <th>min</th>\n",
       "      <td>1.00</td>\n",
       "      <td>1.00</td>\n",
       "      <td>1.00</td>\n",
       "      <td>1.00</td>\n",
       "    </tr>\n",
       "    <tr>\n",
       "      <th>25%</th>\n",
       "      <td>2006722.00</td>\n",
       "      <td>584.00</td>\n",
       "      <td>17107.00</td>\n",
       "      <td>177.00</td>\n",
       "    </tr>\n",
       "    <tr>\n",
       "      <th>50%</th>\n",
       "      <td>3926939.00</td>\n",
       "      <td>1416.00</td>\n",
       "      <td>32825.00</td>\n",
       "      <td>413.00</td>\n",
       "    </tr>\n",
       "    <tr>\n",
       "      <th>75%</th>\n",
       "      <td>5777812.00</td>\n",
       "      <td>1913.00</td>\n",
       "      <td>49390.00</td>\n",
       "      <td>1151.00</td>\n",
       "    </tr>\n",
       "    <tr>\n",
       "      <th>max</th>\n",
       "      <td>7585751.00</td>\n",
       "      <td>3902.00</td>\n",
       "      <td>78186.00</td>\n",
       "      <td>16201.00</td>\n",
       "    </tr>\n",
       "  </tbody>\n",
       "</table>\n",
       "</div>"
      ],
      "text/plain": [
       "         item_id    cate_id   store_id  item_price\n",
       "count 1924269.00 1924269.00 1924269.00  1924269.00\n",
       "mean  3882977.25    1380.07   33681.03     1038.87\n",
       "std   2184652.60     862.32   19856.49     1773.79\n",
       "min         1.00       1.00       1.00        1.00\n",
       "25%   2006722.00     584.00   17107.00      177.00\n",
       "50%   3926939.00    1416.00   32825.00      413.00\n",
       "75%   5777812.00    1913.00   49390.00     1151.00\n",
       "max   7585751.00    3902.00   78186.00    16201.00"
      ]
     },
     "execution_count": 86,
     "metadata": {},
     "output_type": "execute_result"
    }
   ],
   "source": [
    "df_attr.describe()"
   ]
  },
  {
   "cell_type": "markdown",
   "metadata": {},
   "source": [
    "- 训练数据 记录数6989817条"
   ]
  },
  {
   "cell_type": "code",
   "execution_count": 87,
   "metadata": {},
   "outputs": [
    {
     "data": {
      "text/html": [
       "<div>\n",
       "<style scoped>\n",
       "    .dataframe tbody tr th:only-of-type {\n",
       "        vertical-align: middle;\n",
       "    }\n",
       "\n",
       "    .dataframe tbody tr th {\n",
       "        vertical-align: top;\n",
       "    }\n",
       "\n",
       "    .dataframe thead th {\n",
       "        text-align: right;\n",
       "    }\n",
       "</style>\n",
       "<table border=\"1\" class=\"dataframe\">\n",
       "  <thead>\n",
       "    <tr style=\"text-align: right;\">\n",
       "      <th></th>\n",
       "      <th>buyer_admin_id</th>\n",
       "      <th>item_id</th>\n",
       "      <th>create_order_time</th>\n",
       "      <th>irank</th>\n",
       "    </tr>\n",
       "  </thead>\n",
       "  <tbody>\n",
       "    <tr>\n",
       "      <th>count</th>\n",
       "      <td>6989817.00</td>\n",
       "      <td>6989817.00</td>\n",
       "      <td>6989817</td>\n",
       "      <td>6989817.00</td>\n",
       "    </tr>\n",
       "    <tr>\n",
       "      <th>mean</th>\n",
       "      <td>3793426.60</td>\n",
       "      <td>3792787.50</td>\n",
       "      <td>2018-04-15 00:39:09.413480192</td>\n",
       "      <td>29.33</td>\n",
       "    </tr>\n",
       "    <tr>\n",
       "      <th>min</th>\n",
       "      <td>1.00</td>\n",
       "      <td>1.00</td>\n",
       "      <td>2018-03-13 04:01:00</td>\n",
       "      <td>1.00</td>\n",
       "    </tr>\n",
       "    <tr>\n",
       "      <th>25%</th>\n",
       "      <td>1896300.00</td>\n",
       "      <td>1896413.00</td>\n",
       "      <td>2018-04-08 05:45:49</td>\n",
       "      <td>4.00</td>\n",
       "    </tr>\n",
       "    <tr>\n",
       "      <th>50%</th>\n",
       "      <td>3795519.00</td>\n",
       "      <td>3793176.00</td>\n",
       "      <td>2018-04-14 23:04:00</td>\n",
       "      <td>8.00</td>\n",
       "    </tr>\n",
       "    <tr>\n",
       "      <th>75%</th>\n",
       "      <td>5689123.00</td>\n",
       "      <td>5689069.00</td>\n",
       "      <td>2018-04-21 20:58:57</td>\n",
       "      <td>13.00</td>\n",
       "    </tr>\n",
       "    <tr>\n",
       "      <th>max</th>\n",
       "      <td>7585728.00</td>\n",
       "      <td>7585750.00</td>\n",
       "      <td>2018-04-28 23:59:57</td>\n",
       "      <td>11766.00</td>\n",
       "    </tr>\n",
       "    <tr>\n",
       "      <th>std</th>\n",
       "      <td>2190326.97</td>\n",
       "      <td>2189485.77</td>\n",
       "      <td>NaN</td>\n",
       "      <td>302.32</td>\n",
       "    </tr>\n",
       "  </tbody>\n",
       "</table>\n",
       "</div>"
      ],
      "text/plain": [
       "       buyer_admin_id    item_id              create_order_time      irank\n",
       "count      6989817.00 6989817.00                        6989817 6989817.00\n",
       "mean       3793426.60 3792787.50  2018-04-15 00:39:09.413480192      29.33\n",
       "min              1.00       1.00            2018-03-13 04:01:00       1.00\n",
       "25%        1896300.00 1896413.00            2018-04-08 05:45:49       4.00\n",
       "50%        3795519.00 3793176.00            2018-04-14 23:04:00       8.00\n",
       "75%        5689123.00 5689069.00            2018-04-21 20:58:57      13.00\n",
       "max        7585728.00 7585750.00            2018-04-28 23:59:57   11766.00\n",
       "std        2190326.97 2189485.77                            NaN     302.32"
      ]
     },
     "execution_count": 87,
     "metadata": {},
     "output_type": "execute_result"
    }
   ],
   "source": [
    "df_train.describe()"
   ]
  },
  {
   "cell_type": "markdown",
   "metadata": {},
   "source": [
    "- 测试数据 记录数140380条"
   ]
  },
  {
   "cell_type": "code",
   "execution_count": 88,
   "metadata": {},
   "outputs": [
    {
     "data": {
      "text/html": [
       "<div>\n",
       "<style scoped>\n",
       "    .dataframe tbody tr th:only-of-type {\n",
       "        vertical-align: middle;\n",
       "    }\n",
       "\n",
       "    .dataframe tbody tr th {\n",
       "        vertical-align: top;\n",
       "    }\n",
       "\n",
       "    .dataframe thead th {\n",
       "        text-align: right;\n",
       "    }\n",
       "</style>\n",
       "<table border=\"1\" class=\"dataframe\">\n",
       "  <thead>\n",
       "    <tr style=\"text-align: right;\">\n",
       "      <th></th>\n",
       "      <th>buyer_admin_id</th>\n",
       "      <th>item_id</th>\n",
       "      <th>irank</th>\n",
       "    </tr>\n",
       "  </thead>\n",
       "  <tbody>\n",
       "    <tr>\n",
       "      <th>count</th>\n",
       "      <td>140380.00</td>\n",
       "      <td>140380.00</td>\n",
       "      <td>140380.00</td>\n",
       "    </tr>\n",
       "    <tr>\n",
       "      <th>mean</th>\n",
       "      <td>3797166.54</td>\n",
       "      <td>3775240.50</td>\n",
       "      <td>14.92</td>\n",
       "    </tr>\n",
       "    <tr>\n",
       "      <th>std</th>\n",
       "      <td>2201844.33</td>\n",
       "      <td>2188562.48</td>\n",
       "      <td>31.18</td>\n",
       "    </tr>\n",
       "    <tr>\n",
       "      <th>min</th>\n",
       "      <td>1288.00</td>\n",
       "      <td>106.00</td>\n",
       "      <td>2.00</td>\n",
       "    </tr>\n",
       "    <tr>\n",
       "      <th>25%</th>\n",
       "      <td>1864320.00</td>\n",
       "      <td>1888463.00</td>\n",
       "      <td>5.00</td>\n",
       "    </tr>\n",
       "    <tr>\n",
       "      <th>50%</th>\n",
       "      <td>3744424.00</td>\n",
       "      <td>3759288.00</td>\n",
       "      <td>8.00</td>\n",
       "    </tr>\n",
       "    <tr>\n",
       "      <th>75%</th>\n",
       "      <td>5774133.00</td>\n",
       "      <td>5668940.00</td>\n",
       "      <td>14.00</td>\n",
       "    </tr>\n",
       "    <tr>\n",
       "      <th>max</th>\n",
       "      <td>7585267.00</td>\n",
       "      <td>7585176.00</td>\n",
       "      <td>563.00</td>\n",
       "    </tr>\n",
       "  </tbody>\n",
       "</table>\n",
       "</div>"
      ],
      "text/plain": [
       "       buyer_admin_id    item_id     irank\n",
       "count       140380.00  140380.00 140380.00\n",
       "mean       3797166.54 3775240.50     14.92\n",
       "std        2201844.33 2188562.48     31.18\n",
       "min           1288.00     106.00      2.00\n",
       "25%        1864320.00 1888463.00      5.00\n",
       "50%        3744424.00 3759288.00      8.00\n",
       "75%        5774133.00 5668940.00     14.00\n",
       "max        7585267.00 7585176.00    563.00"
      ]
     },
     "execution_count": 88,
     "metadata": {},
     "output_type": "execute_result"
    }
   ],
   "source": [
    "df_test.describe()"
   ]
  },
  {
   "cell_type": "markdown",
   "metadata": {},
   "source": [
    "##### 有多少用户和商品？"
   ]
  },
  {
   "cell_type": "markdown",
   "metadata": {},
   "source": [
    "- 检查训练数据中的用户和商品数量"
   ]
  },
  {
   "cell_type": "code",
   "execution_count": 89,
   "metadata": {},
   "outputs": [
    {
     "name": "stdout",
     "output_type": "stream",
     "text": [
      "训练数据中包含的用户数量为: 483117\n",
      "训练数据中包含的商品数量为: 1852506\n"
     ]
    }
   ],
   "source": [
    "train_buyers = df_train['buyer_admin_id'].nunique()\n",
    "train_items = df_train['item_id'].nunique()\n",
    "print(f\"训练数据中包含的用户数量为: {train_buyers}\")\n",
    "print(f\"训练数据中包含的商品数量为: {train_items}\")"
   ]
  },
  {
   "cell_type": "markdown",
   "metadata": {},
   "source": [
    "- 检查测试数据中的用户和商品数量"
   ]
  },
  {
   "cell_type": "code",
   "execution_count": 90,
   "metadata": {},
   "outputs": [
    {
     "name": "stdout",
     "output_type": "stream",
     "text": [
      "测试数据中包含的用户数量为: 10576\n",
      "测试数据中包含的商品数量为: 91513\n"
     ]
    }
   ],
   "source": [
    "test_buyers = df_test['buyer_admin_id'].nunique()\n",
    "test_items = df_test['item_id'].nunique()\n",
    "print(f\"测试数据中包含的用户数量为: {test_buyers}\")\n",
    "print(f\"测试数据中包含的商品数量为: {test_items}\")"
   ]
  },
  {
   "cell_type": "markdown",
   "metadata": {},
   "source": [
    "- 检查商品属性表中的商品数量"
   ]
  },
  {
   "cell_type": "code",
   "execution_count": 91,
   "metadata": {},
   "outputs": [
    {
     "name": "stdout",
     "output_type": "stream",
     "text": [
      "商品属性表中包含的商品数量为: 1924269\n"
     ]
    }
   ],
   "source": [
    "attr_items = df_attr['item_id'].nunique()\n",
    "print(f\"商品属性表中包含的商品数量为: {attr_items}\")"
   ]
  },
  {
   "cell_type": "markdown",
   "metadata": {},
   "source": [
    "### 数据探索"
   ]
  },
  {
   "cell_type": "markdown",
   "metadata": {},
   "source": [
    "##### **买家行为分析**: 长尾效应"
   ]
  },
  {
   "cell_type": "markdown",
   "metadata": {},
   "source": [
    "- 买家数量：\n",
    "    - 均值（mean） 是 14.47，而 中位数（50%） 只有 9。这表明，有少数购买次数非常多的“超级买家”，他们拉高了平均值。这是一个典型的长尾分布的特征。\n",
    "    - 99% 的买家购买次数都在 67 次以下，但 最大值（max） 却高达 1396 次。这个巨大的差距也再次证明了长尾效应的存在。"
   ]
  },
  {
   "cell_type": "code",
   "execution_count": 92,
   "metadata": {},
   "outputs": [
    {
     "name": "stdout",
     "output_type": "stream",
     "text": [
      "买家数量: 483117\n",
      "count   483117.00\n",
      "mean        14.47\n",
      "std         25.00\n",
      "min          8.00\n",
      "50%         11.00\n",
      "75%         15.00\n",
      "90%         23.00\n",
      "95%         30.00\n",
      "99%         59.00\n",
      "max      11766.00\n",
      "Name: buy_count, dtype: float64\n"
     ]
    }
   ],
   "source": [
    "print(\"买家数量:\", buy_counts.shape[0])\n",
    "print(buy_counts['buy_count'].describe(\n",
    "    percentiles=[0.5, 0.75, 0.9, 0.95, 0.99]))"
   ]
  },
  {
   "cell_type": "markdown",
   "metadata": {},
   "source": [
    "- 购买次数的（长尾）阈值覆盖率：\n",
    "  - 根据赛题描述，每个用户至少有 7 条购买数据，所以购买次数小于或等于 6 的占比是 0，这是符合预期的。\n",
    "  - 更关键的是，有 63.58% 的买家购买次数在 10 次以下，而购买次数在 20 次以下的买家占比高达 89.9%。这说明绝大多数用户的购买行为都是低频的。"
   ]
  },
  {
   "cell_type": "code",
   "execution_count": 93,
   "metadata": {},
   "outputs": [
    {
     "name": "stdout",
     "output_type": "stream",
     "text": [
      "购买次数 <= 7 的买家占比: 0.0000\n",
      "购买次数 <= 8 的买家占比: 0.1911\n",
      "购买次数 <= 10 的买家占比: 0.4508\n",
      "购买次数 <= 20 的买家占比: 0.8688\n",
      "购买次数 <= 50 的买家占比: 0.9856\n"
     ]
    }
   ],
   "source": [
    "for thr in [7, 8, 10, 20, 50]:\n",
    "    frac = (buy_counts['buy_count'] <= thr).mean()\n",
    "    print(f\"购买次数 <= {thr} 的买家占比: {frac:.4f}\")\n"
   ]
  },
  {
   "cell_type": "markdown",
   "metadata": {},
   "source": [
    "- 前10名“超级买家”"
   ]
  },
  {
   "cell_type": "code",
   "execution_count": 94,
   "metadata": {},
   "outputs": [
    {
     "name": "stdout",
     "output_type": "stream",
     "text": [
      "        buyer_admin_id  buy_count\n",
      "449795         6993996      11766\n",
      "482429         7566816       4805\n",
      "424410         6571802       4618\n",
      "480655         7525683       3020\n",
      "272980         4185815       2290\n",
      "482522         7573849       1894\n",
      "459869         7187294       1770\n",
      "402750         6211033       1666\n",
      "31730           509271       1583\n",
      "363992         5594738       1470\n"
     ]
    }
   ],
   "source": [
    "print(buy_counts.sort_values('buy_count', ascending=False).head(10))\n"
   ]
  },
  {
   "cell_type": "code",
   "execution_count": 95,
   "metadata": {},
   "outputs": [
    {
     "data": {
      "image/png": "[encoded data removed]",
      "text/plain": [
       "<Figure size 640x480 with 1 Axes>"
      ]
     },
     "metadata": {},
     "output_type": "display_data"
    }
   ],
   "source": [
    "# 对数变换直方图（展示全量长尾）\n",
    "sns.histplot(np.log1p(buy_counts['buy_count']), bins=50, kde=False)\n",
    "plt.xlabel('log1p(购买次数)')\n",
    "plt.title('购买次数对数分布');"
   ]
  },
  {
   "cell_type": "code",
   "execution_count": 96,
   "metadata": {},
   "outputs": [
    {
     "data": {
      "image/png": "[encoded data removed]",
      "text/plain": [
       "<Figure size 640x480 with 1 Axes>"
      ]
     },
     "metadata": {},
     "output_type": "display_data"
    }
   ],
   "source": [
    "# 箱形图（对数尺度）\n",
    "sns.boxplot(x=np.log1p(buy_counts['buy_count']))\n",
    "plt.xlabel('log1p(购买次数)')\n",
    "plt.title('购买次数箱型图（对数）');"
   ]
  },
  {
   "cell_type": "markdown",
   "metadata": {},
   "source": [
    "##### 商品分析：目前假设大于\"1000\"次购买为爆款."
   ]
  },
  {
   "cell_type": "markdown",
   "metadata": {},
   "source": [
    "- 解商品被购买次数的分布情况"
   ]
  },
  {
   "cell_type": "code",
   "execution_count": 97,
   "metadata": {},
   "outputs": [
    {
     "name": "stdout",
     "output_type": "stream",
     "text": [
      "商品数       1852506.00\n",
      "均值              3.77\n",
      "标准差            32.91\n",
      "最小值             1.00\n",
      "50%             1.00\n",
      "75%             2.00\n",
      "90%             6.00\n",
      "95%            11.00\n",
      "99%            42.00\n",
      "99.995%      1040.50\n",
      "最大值         31625.00\n",
      "Name: item_buy_count, dtype: float64\n"
     ]
    }
   ],
   "source": [
    "desc = item_buy_counts['item_buy_count'].describe(\n",
    "    percentiles=[0.5, 0.75, 0.9, 0.95, 0.99,0.99995])\n",
    "desc = desc.rename({\n",
    "    'count': '商品数',\n",
    "    'mean': '均值',\n",
    "    'std': '标准差',\n",
    "    'min': '最小值',\n",
    "    'max': '最大值'\n",
    "})\n",
    "print(desc)"
   ]
  },
  {
   "cell_type": "code",
   "execution_count": 98,
   "metadata": {},
   "outputs": [
    {
     "data": {
      "image/png": "[encoded data removed]",
      "text/plain": [
       "<Figure size 640x480 with 1 Axes>"
      ]
     },
     "metadata": {},
     "output_type": "display_data"
    }
   ],
   "source": [
    "sns.histplot(np.log1p(\n",
    "    item_buy_counts['item_buy_count']), bins=150, kde=True, edgecolor='black')\n",
    "plt.xlim(0, 4)\n",
    "plt.xlabel('log1p(商品被购买总数)')\n",
    "plt.title('商品被购买次数对数分布')\n",
    "plt.tight_layout()"
   ]
  },
  {
   "cell_type": "markdown",
   "metadata": {},
   "source": [
    "- 查看被购买最多的前10个商品"
   ]
  },
  {
   "cell_type": "code",
   "execution_count": 99,
   "metadata": {},
   "outputs": [
    {
     "name": "stdout",
     "output_type": "stream",
     "text": [
      "         item_id  item_buy_count\n",
      "1846081  7493101           31625\n",
      "124774    516873            9295\n",
      "934891   3964264            9006\n",
      "1849799  7557509            7253\n",
      "1845528  7482805            7078\n",
      "716056   3058048            6097\n",
      "106380    426022            5627\n",
      "429789   1872817            3770\n",
      "104647    413606            3672\n",
      "1483972  6162363            3585\n",
      "144693    648691            3579\n",
      "177522    797627            3449\n",
      "1301431  5421409            3405\n",
      "285189   1266501            3361\n",
      "133819    584059            3248\n",
      "980292   4163903            3115\n",
      "206475    928637            3091\n",
      "131246    564243            2910\n",
      "1847425  7538392            2900\n",
      "698543   2982899            2840\n",
      "1847098  7533383            2812\n",
      "212509    959326            2580\n",
      "10504      34624            2399\n",
      "1384909  5759221            2372\n",
      "130993    560251            2296\n",
      "1356258  5644811            2271\n",
      "1290860  5378792            2269\n",
      "1801150  7324348            2234\n",
      "153665    691497            2153\n",
      "594084   2548432            2103\n",
      "1735226  7117616            2068\n",
      "278874   1236154            2063\n",
      "1028449  4355524            2033\n",
      "298722   1328948            2032\n",
      "1486095  6175085            2009\n",
      "178404    808923            1926\n",
      "1525199  6343749            1907\n",
      "1580088  6566274            1855\n",
      "779567   3324122            1833\n",
      "1679357  6938970            1758\n",
      "816885   3472927            1748\n",
      "938647   3991200            1719\n",
      "242211   1081411            1605\n",
      "252816   1123984            1583\n",
      "1057965  4478747            1557\n",
      "650510   2780711            1550\n",
      "142690    632978            1548\n",
      "849185   3610476            1548\n",
      "1334914  5557096            1495\n",
      "724778   3101366            1493\n",
      "996769   4230159            1482\n",
      "1275818  5320716            1477\n",
      "1099863  4647464            1477\n",
      "1821935  7396558            1463\n",
      "1343088  5589644            1429\n",
      "719923   3079867            1422\n",
      "1217886  5101070            1411\n",
      "1506038  6260016            1410\n",
      "103615    406411            1404\n",
      "1495096  6210398            1354\n",
      "56237     205279            1339\n",
      "861099   3661559            1339\n",
      "590536   2530385            1331\n",
      "1306783  5445292            1324\n",
      "124858    527361            1309\n",
      "557934   2399040            1295\n",
      "112797    459377            1281\n",
      "1254181  5238035            1271\n",
      "1315617  5481091            1260\n",
      "185594    842069            1250\n",
      "349793   1546999            1206\n",
      "605385   2595786            1201\n",
      "297111   1320317            1187\n",
      "1667986  6897991            1174\n",
      "1500132  6233891            1165\n",
      "1340255  5578821            1161\n",
      "419890   1833304            1160\n",
      "231702   1040012            1145\n",
      "1477443  6135319            1142\n",
      "1601765  6647085            1137\n",
      "962398   4090525            1117\n",
      "1262551  5271435            1116\n",
      "166999    750754            1111\n",
      "1641070  6800090            1096\n",
      "1700813  7011420            1091\n",
      "534301   2299572            1084\n",
      "1143826  4819998            1080\n",
      "1501465  6241279            1072\n",
      "321599   1431380            1069\n",
      "1351398  5623409            1069\n",
      "407452   1783150            1058\n",
      "1675110  6923761            1053\n",
      "94093     362985            1048\n",
      "124414    513261            1036\n",
      "223537   1006630            1035\n",
      "1524731  6340298            1026\n",
      "1849662  7555440             997\n",
      "1522845  6329397             983\n",
      "680564   2907215             975\n",
      "757005   3237067             956\n"
     ]
    }
   ],
   "source": [
    "print(item_buy_counts.sort_values('item_buy_count', ascending=False).head(100))"
   ]
  },
  {
   "cell_type": "markdown",
   "metadata": {},
   "source": [
    "##### 订单量的时间趋势"
   ]
  },
  {
   "cell_type": "code",
   "execution_count": 100,
   "metadata": {},
   "outputs": [
    {
     "data": {
      "image/png": "[encoded data removed]",
      "text/plain": [
       "<Figure size 1400x400 with 1 Axes>"
      ]
     },
     "metadata": {},
     "output_type": "display_data"
    }
   ],
   "source": [
    "daily_orders = df_train.groupby(df_train['create_order_time'].dt.date).size()\n",
    "plt.figure(figsize=(14, 4))\n",
    "daily_orders.plot(marker='o')\n",
    "plt.xlabel('日期')\n",
    "plt.ylabel('订单量')\n",
    "plt.title('每日订单量趋势')\n",
    "plt.tight_layout()\n",
    "for x, y in zip(daily_orders.index, daily_orders.values):\n",
    "    plt.text(x, y, str(y), ha='center', va='bottom', fontsize=8,)\n",
    "plt.show()"
   ]
  },
  {
   "cell_type": "markdown",
   "metadata": {},
   "source": [
    "##### 用户首次/末次购买时间、购买间隔"
   ]
  },
  {
   "cell_type": "code",
   "execution_count": 101,
   "metadata": {},
   "outputs": [
    {
     "name": "stdout",
     "output_type": "stream",
     "text": [
      "用户活跃天数分布：\n",
      "用户数      483117.00\n",
      "平均活跃天数       12.25\n",
      "标准差           8.44\n",
      "最小值           0.00\n",
      "25%分位数        4.00\n",
      "中位数          13.00\n",
      "75%分位数       20.00\n",
      "最大值          45.00\n",
      "Name: 活跃天数, dtype: float64\n",
      "\n",
      "首次购买时间区间：2018-03-13 04:01:00 ~ 2018-04-28 23:58:04\n",
      "末次购买时间区间：2018-03-17 11:13:41 ~ 2018-04-28 23:59:57\n"
     ]
    }
   ],
   "source": [
    "user_time = df_train.groupby('buyer_admin_id')[\n",
    "    'create_order_time'].agg(['min', 'max'])\n",
    "user_time['活跃天数'] = (user_time['max'] - user_time['min']).dt.days\n",
    "\n",
    "# 只看活跃天数的统计\n",
    "print(\"用户活跃天数分布：\")\n",
    "print(user_time['活跃天数'].describe().rename({\n",
    "    'count': '用户数',\n",
    "    'mean': '平均活跃天数',\n",
    "    'std': '标准差',\n",
    "    'min': '最小值',\n",
    "    '25%': '25%分位数',\n",
    "    '50%': '中位数',\n",
    "    '75%': '75%分位数',\n",
    "    'max': '最大值'\n",
    "}))\n",
    "\n",
    "# 首次/末次购买时间的区间\n",
    "print(\"\\n首次购买时间区间：{} ~ {}\".format(\n",
    "    user_time['min'].min().strftime('%Y-%m-%d %H:%M:%S'),\n",
    "    user_time['min'].max().strftime('%Y-%m-%d %H:%M:%S')\n",
    "))\n",
    "print(\"末次购买时间区间：{} ~ {}\".format(\n",
    "    user_time['max'].min().strftime('%Y-%m-%d %H:%M:%S'),\n",
    "    user_time['max'].max().strftime('%Y-%m-%d %H:%M:%S')\n",
    "))"
   ]
  },
  {
   "cell_type": "code",
   "execution_count": 102,
   "metadata": {},
   "outputs": [
    {
     "data": {
      "image/png": "[encoded data removed]",
      "text/plain": [
       "<Figure size 1000x400 with 1 Axes>"
      ]
     },
     "metadata": {},
     "output_type": "display_data"
    }
   ],
   "source": [
    "# 计算每个用户的购买间隔（天）\n",
    "df_train = df_train.sort_values(['buyer_admin_id', 'create_order_time'])\n",
    "df_train['prev_time'] = df_train.groupby(\n",
    "    'buyer_admin_id')['create_order_time'].shift(1)\n",
    "df_train['buy_gap'] = (df_train['create_order_time'] -\n",
    "                       df_train['prev_time']).dt.days\n",
    "\n",
    "# 统计每个间隔天数出现的次数\n",
    "gap_counts = df_train['buy_gap'].value_counts().sort_index()\n",
    "\n",
    "plt.figure(figsize=(10, 4))\n",
    "plt.plot(gap_counts.index, gap_counts.values, marker='o')\n",
    "for x, y in zip(gap_counts.index, gap_counts.values):\n",
    "    plt.text(x, y, str(y), ha='center', va='bottom', fontsize=8)\n",
    "plt.xlabel('购买间隔（天）')\n",
    "plt.ylabel('次数')\n",
    "plt.title('用户购买间隔分布（折线图）')\n",
    "plt.tight_layout()\n",
    "plt.show()"
   ]
  }
 ],
 "metadata": {
  "kernelspec": {
   "display_name": "custbuyforecast (3.12.11)",
   "language": "python",
   "name": "python3"
  },
  "language_info": {
   "codemirror_mode": {
    "name": "ipython",
    "version": 3
   },
   "file_extension": ".py",
   "mimetype": "text/x-python",
   "name": "python",
   "nbconvert_exporter": "python",
   "pygments_lexer": "ipython3",
   "version": "3.12.11"
  }
 },
 "nbformat": 4,
 "nbformat_minor": 2
}
